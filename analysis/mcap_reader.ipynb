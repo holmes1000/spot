{
 "cells": [
  {
   "cell_type": "code",
   "execution_count": 1,
   "id": "84a5568b-7641-47d6-aab2-5c2a7fd8edb5",
   "metadata": {},
   "outputs": [],
   "source": [
    "import argparse\n",
    "from rclpy.serialization import deserialize_message\n",
    "from rosidl_runtime_py.utilities import get_message\n",
    "from std_msgs.msg import String\n",
    "import rosbag2_py\n",
    "\n",
    "from cv_bridge import CvBridge\n",
    "import cv2\n",
    "import os\n",
    "import numpy as np\n",
    "import csv"
   ]
  },
  {
   "cell_type": "code",
   "execution_count": 3,
   "id": "78a31f91-aafc-4e18-9a8f-c5c8ce109f9c",
   "metadata": {},
   "outputs": [],
   "source": [
    "input_bag = 'spot-cam-lidar-table/rosbag2_2024_12_06-16_30_12_0.mcap'\n",
    "\n",
    "reader = rosbag2_py.SequentialReader()\n",
    "reader.open(\n",
    "    rosbag2_py.StorageOptions(uri=input_bag, storage_id=\"mcap\"),\n",
    "    rosbag2_py.ConverterOptions(\n",
    "        input_serialization_format=\"cdr\", output_serialization_format=\"cdr\"\n",
    "    ),\n",
    ")\n",
    "\n",
    "topic_types = reader.get_all_topics_and_types()\n",
    "del reader"
   ]
  },
  {
   "cell_type": "code",
   "execution_count": 38,
   "id": "63c2ec11-6b1b-4966-a2d3-5a44f754419f",
   "metadata": {},
   "outputs": [
    {
     "name": "stdout",
     "output_type": "stream",
     "text": [
      "/vectornav/raw/imu ----  vectornav_msgs/msg/ImuGroup \n",
      "/vectornav/raw/time ----  vectornav_msgs/msg/TimeGroup \n",
      "/ouster/points ----  sensor_msgs/msg/PointCloud2 \n",
      "/cam_sync/cam1/image_raw ----  sensor_msgs/msg/Image \n",
      "/cam_sync/cam0/image_raw ----  sensor_msgs/msg/Image \n",
      "/tf_static ----  tf2_msgs/msg/TFMessage \n",
      "/vectornav/imu ----  sensor_msgs/msg/Imu \n",
      "/vectornav/pose ----  geometry_msgs/msg/PoseWithCovarianceStamped \n"
     ]
    }
   ],
   "source": [
    "for i in topic_types:\n",
    "    print(f\"{i.name} ----  {i.type} \")"
   ]
  },
  {
   "cell_type": "code",
   "execution_count": 5,
   "id": "52a7ba73-92c7-4cb9-9e2f-8639b2d87f22",
   "metadata": {},
   "outputs": [
    {
     "name": "stdout",
     "output_type": "stream",
     "text": [
      "1 0\n",
      "100 99\n",
      "100 100\n",
      "101 100\n",
      "200 199\n",
      "200 200\n",
      "201 200\n",
      "300 299\n",
      "300 300\n",
      "301 300\n",
      "400 399\n",
      "400 400\n",
      "401 400\n",
      "500 499\n",
      "500 500\n",
      "501 500\n",
      "600 599\n",
      "600 600\n",
      "601 600\n",
      "700 699\n",
      "700 700\n",
      "701 700\n",
      "787 787\n"
     ]
    }
   ],
   "source": [
    "bridge = CvBridge()\n",
    "\n",
    "reader = rosbag2_py.SequentialReader()\n",
    "reader.open(\n",
    "    rosbag2_py.StorageOptions(uri=input_bag, storage_id=\"mcap\"),\n",
    "    rosbag2_py.ConverterOptions(\n",
    "        input_serialization_format=\"cdr\", output_serialization_format=\"cdr\"\n",
    "    ),\n",
    ")\n",
    "\n",
    "def typename(topic_name):\n",
    "    for topic_type in topic_types:\n",
    "        if topic_type.name == topic_name:\n",
    "            return topic_type.type\n",
    "    raise ValueError(f\"topic {topic_name} not in bag\")\n",
    "msg0, msg1 = 0,0\n",
    "\n",
    "while reader.has_next():\n",
    "    topic, data, timestamp = reader.read_next()\n",
    "    msg_type = get_message(typename(topic))\n",
    "    msg = deserialize_message(data, msg_type)\n",
    "\n",
    "    if typename(topic) == 'sensor_msgs/msg/Image':\n",
    "        if topic == '/cam_sync/cam1/image_raw':\n",
    "            msg1 += 1\n",
    "        else:\n",
    "            msg0 += 1\n",
    "\n",
    "        dirName = topic[1:].replace('/','_')\n",
    "        file_path = dirName + '/' + str(timestamp) + '.png'\n",
    "\n",
    "        if os.path.exists(file_path):\n",
    "            print(f\"Found duplicate for {file_path}\")\n",
    "        \n",
    "        cv_image = bridge.imgmsg_to_cv2(msg, desired_encoding=msg.encoding)\n",
    "        cv2.imwrite(file_path, cv_image)\n",
    "        if not os.path.exists(file_path):\n",
    "            print(f\"Unable to create {file_path}\")\n",
    "            break\n",
    "        if (msg1 % 100 == 0) or (msg0 % 100 == 0):\n",
    "            print(msg0, msg1)\n",
    "del reader\n",
    "print(msg0, msg1)"
   ]
  },
  {
   "cell_type": "code",
   "execution_count": 4,
   "id": "3972794f-25e0-412b-90fc-f9792b088f5e",
   "metadata": {},
   "outputs": [],
   "source": [
    "os.makedirs('cam_sync_cam1_image_raw')\n",
    "os.makedirs('cam_sync_cam0_image_raw')"
   ]
  },
  {
   "cell_type": "code",
   "execution_count": 4,
   "id": "b69c30ae-44f2-465c-94f7-bf6ff3ea57c5",
   "metadata": {},
   "outputs": [],
   "source": [
    "image_folder = 'spot-cam-lidar-loop/cam_sync_cam0_image_raw/'\n",
    "output_video = 'video.avi'"
   ]
  },
  {
   "cell_type": "code",
   "execution_count": 5,
   "id": "ae753f39-746a-494e-9408-0fc17463d627",
   "metadata": {},
   "outputs": [
    {
     "name": "stdout",
     "output_type": "stream",
     "text": [
      "Video saved as video.avi\n"
     ]
    }
   ],
   "source": [
    "images = [img for img in os.listdir(image_folder) if img.endswith(\".png\") or img.endswith(\".jpg\")]\n",
    "images.sort()\n",
    "\n",
    "frame = cv2.imread(os.path.join(image_folder, images[0]))\n",
    "\n",
    "height, width, layers = frame.shape\n",
    "frame_size = (width, height)\n",
    "\n",
    "fourcc = cv2.VideoWriter_fourcc(*'XVID')  # 'XVID' codec for .avi files\n",
    "video_writer = cv2.VideoWriter(output_video, fourcc, 60, frame_size)  # 1 fps, adjust fps as needed\n",
    "\n",
    "# Loop through each image and add it to the video\n",
    "for image in images:\n",
    "    img_path = os.path.join(image_folder, image)\n",
    "    img = cv2.imread(img_path)\n",
    "    \n",
    "    if img is not None:\n",
    "        video_writer.write(img)  # Write the frame to the video\n",
    "\n",
    "# Release the video writer object and close any OpenCV windows\n",
    "video_writer.release()\n",
    "cv2.destroyAllWindows()\n",
    "\n",
    "print(f\"Video saved as {output_video}\")"
   ]
  },
  {
   "cell_type": "code",
   "execution_count": null,
   "id": "e4d2fe19-1743-4e4e-ae05-7b83ec8214a0",
   "metadata": {},
   "outputs": [],
   "source": []
  }
 ],
 "metadata": {
  "kernelspec": {
   "display_name": "Python 3 (ipykernel)",
   "language": "python",
   "name": "python3"
  },
  "language_info": {
   "codemirror_mode": {
    "name": "ipython",
    "version": 3
   },
   "file_extension": ".py",
   "mimetype": "text/x-python",
   "name": "python",
   "nbconvert_exporter": "python",
   "pygments_lexer": "ipython3",
   "version": "3.10.12"
  }
 },
 "nbformat": 4,
 "nbformat_minor": 5
}
