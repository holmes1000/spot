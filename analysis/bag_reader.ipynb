{
 "cells": [
  {
   "cell_type": "code",
   "execution_count": 16,
   "id": "ad6139cf-de29-47c2-8af7-2bb9ed6259d3",
   "metadata": {},
   "outputs": [],
   "source": [
    "import rosbag\n",
    "from cv_bridge import CvBridge\n",
    "import cv2\n",
    "import os\n",
    "import numpy as np\n",
    "import csv"
   ]
  },
  {
   "cell_type": "code",
   "execution_count": 2,
   "id": "b6419019-7bcf-4f1a-a847-eea737ab8066",
   "metadata": {},
   "outputs": [],
   "source": [
    "bag_paths = ['bags/' + i for i in os.listdir('bags/')]\n",
    "bag_paths.sort()"
   ]
  },
  {
   "cell_type": "code",
   "execution_count": 3,
   "id": "ca48d665-4482-4d58-9a1d-1443a6dfb922",
   "metadata": {},
   "outputs": [
    {
     "name": "stdout",
     "output_type": "stream",
     "text": [
      "using bag file bags/2023-03-14-12-16-12_37b.bag\n"
     ]
    }
   ],
   "source": [
    "bridge = CvBridge()\n",
    "# ITERATE OVER EACH BAG\n",
    "for bag_path in bag_paths:\n",
    "    print(f\"using bag file {bag_path}\")\n",
    "    bag = rosbag.Bag(bag_path, 'r')\n",
    "\n",
    "    # READ ALL TOPICS FROM THE BAG\n",
    "    topics = bag.get_type_and_topic_info()[1].keys()\n",
    "    topics = list(topics)\n",
    "\n",
    "    # GET LIST OF ALL IMAGE TOPICS IN THE BAG\n",
    "    imageTopics = []\n",
    "    for t in topics:\n",
    "        topicTuple = bag.get_type_and_topic_info()[1][t]\n",
    "        if topicTuple.msg_type == 'sensor_msgs/Image':\n",
    "            imageTopics.append(t)\n",
    "    break\n",
    "    # GET MESSAGES FOR A SPECIFIC TOPIC WITH IMAGE MESSAGES\n",
    "    for topic in imageTopics:\n",
    "        print(f\"\\t writing for topic {topic}\")        \n",
    "        dirName = 'imgs/' + topic.replace('/','_')\n",
    "\n",
    "        for _, msg, t in bag.read_messages(topic):\n",
    "            \n",
    "            cv_image = bridge.imgmsg_to_cv2(msg, desired_encoding=msg.encoding)\n",
    "            timestamp = str(t.secs) + str(t.nsecs)\n",
    "            fname = dirName + \"/\" + timestamp + '.png'\n",
    "            \n",
    "            if os.path.exists(fname):\n",
    "                print(f\"{fname} already exists in the bag\")\n",
    "            cv2.imwrite(fname, cv_image)"
   ]
  },
  {
   "cell_type": "code",
   "execution_count": 6,
   "id": "2cd15d10-a079-4424-a39b-8e04f94d996e",
   "metadata": {},
   "outputs": [],
   "source": [
    "imu_topic_compensated = '/imu/imu_compensated'\n",
    "imu_topic_uncompensated = '/imu/imu_uncompensated'"
   ]
  },
  {
   "cell_type": "code",
   "execution_count": 7,
   "id": "dcb18de0-0ff8-48cc-84b2-f004a4d34233",
   "metadata": {},
   "outputs": [
    {
     "name": "stdout",
     "output_type": "stream",
     "text": [
      "header: \n",
      "  seq: 273168\n",
      "  stamp: \n",
      "    secs: 1678810589\n",
      "    nsecs: 997018388\n",
      "  frame_id: \"imu\"\n",
      "orientation: \n",
      "  x: -0.0016885442892089486\n",
      "  y: 0.0018819085089489818\n",
      "  z: 0.9666464924812317\n",
      "  w: -0.256102055311203\n",
      "orientation_covariance: [0.0, 0.0, 0.0, 0.0, 0.0, 0.0, 0.0, 0.0, 0.0]\n",
      "angular_velocity: \n",
      "  x: -0.02170119248330593\n",
      "  y: -0.00548772606998682\n",
      "  z: 0.02348034642636776\n",
      "angular_velocity_covariance: [0.0, 0.0, 0.0, 0.0, 0.0, 0.0, 0.0, 0.0, 0.0]\n",
      "linear_acceleration: \n",
      "  x: -1.8400936126708984\n",
      "  y: -0.03929905593395233\n",
      "  z: -9.802037239074707\n",
      "linear_acceleration_covariance: [0.0, 0.0, 0.0, 0.0, 0.0, 0.0, 0.0, 0.0, 0.0]\n"
     ]
    }
   ],
   "source": [
    "for _, msg, t in bag.read_messages(imu_topic_compensated):\n",
    "    print(msg)\n",
    "    break"
   ]
  },
  {
   "cell_type": "code",
   "execution_count": 22,
   "id": "74a2a5e3-b180-42bf-bb23-6669fcf92a89",
   "metadata": {},
   "outputs": [],
   "source": [
    "header = [\n",
    "    'time',\n",
    "    'orientation_x',\n",
    "    'orientation_y',\n",
    "    'orientation_z',\n",
    "    'orientation_w',\n",
    "    'angular_velocity_x',\n",
    "    'angular_velocity_y',\n",
    "    'angular_velocity_z',\n",
    "    'linear_acceleration_x',\n",
    "    'linear_acceleration_y',\n",
    "    'linear_acceleration_z',\n",
    "]\n",
    "\n",
    "csv_filename = \"imu_data_compensated.csv\"\n",
    "\n",
    "with open(csv_filename, mode='w', newline='') as file:\n",
    "    writer = csv.writer(file)\n",
    "    writer.writerow(header)  # Write header\n",
    "\n",
    "csv_filename_uncompensated = \"imu_data_uncompensated.csv\"\n",
    "\n",
    "with open(csv_filename_uncompensated, mode='w', newline='') as file:\n",
    "    writer = csv.writer(file)\n",
    "    writer.writerow(header)  # Write header"
   ]
  },
  {
   "cell_type": "code",
   "execution_count": 23,
   "id": "aa1bda83-af94-4fde-a9c3-a8bbd2f524c3",
   "metadata": {},
   "outputs": [
    {
     "name": "stdout",
     "output_type": "stream",
     "text": [
      "Using bag file bags/2023-03-14-12-16-12_37b.bag\n",
      "Wrote 2964 messages for compensated imu\n",
      "Wrote 2964 messages for uncompensated imu\n",
      "Using bag file bags/2023-03-14-12-16-44_38.bag\n",
      "Wrote 6374 messages for compensated imu\n",
      "Wrote 6374 messages for uncompensated imu\n",
      "Using bag file bags/2023-03-14-12-17-16_39.bag\n",
      "Wrote 6362 messages for compensated imu\n",
      "Wrote 6363 messages for uncompensated imu\n",
      "Using bag file bags/2023-03-14-12-17-48_40.bag\n",
      "Wrote 6372 messages for compensated imu\n",
      "Wrote 6371 messages for uncompensated imu\n",
      "Using bag file bags/2023-03-14-12-18-20_41.bag\n",
      "Wrote 6373 messages for compensated imu\n",
      "Wrote 6373 messages for uncompensated imu\n",
      "Using bag file bags/2023-03-14-12-18-52_42.bag\n",
      "Wrote 6373 messages for compensated imu\n",
      "Wrote 6373 messages for uncompensated imu\n",
      "Using bag file bags/2023-03-14-12-19-24_43.bag\n",
      "Wrote 6363 messages for compensated imu\n",
      "Wrote 6364 messages for uncompensated imu\n",
      "Using bag file bags/2023-03-14-12-19-55_44.bag\n",
      "Wrote 6372 messages for compensated imu\n",
      "Wrote 6372 messages for uncompensated imu\n",
      "Using bag file bags/2023-03-14-12-20-27_45a.bag\n",
      "Wrote 5647 messages for compensated imu\n",
      "Wrote 5646 messages for uncompensated imu\n"
     ]
    }
   ],
   "source": [
    "for bag_path in bag_paths:\n",
    "    print(f\"Using bag file {bag_path}\")\n",
    "    bag = rosbag.Bag(bag_path, 'r')\n",
    "    \n",
    "    with open(csv_filename, mode='a', newline='') as file:\n",
    "        writer = csv.writer(file)\n",
    "        i = 0\n",
    "        for _, msg, t in bag.read_messages(imu_topic_compensated):\n",
    "            row = [\n",
    "                    msg.header.stamp.to_nsec(),\n",
    "                    msg.orientation.x,\n",
    "                    msg.orientation.y,\n",
    "                    msg.orientation.z,\n",
    "                    msg.orientation.w,\n",
    "                    msg.angular_velocity.x,\n",
    "                    msg.angular_velocity.y,\n",
    "                    msg.angular_velocity.z,\n",
    "                    msg.linear_acceleration.x,\n",
    "                    msg.linear_acceleration.y,\n",
    "                    msg.linear_acceleration.z,\n",
    "                ]\n",
    "            writer.writerow(row)  # Write data\n",
    "            i+= 1\n",
    "        print(f\"Wrote {i} messages for compensated imu\")\n",
    "\n",
    "    with open(csv_filename_uncompensated, mode='a', newline='') as file:\n",
    "        writer = csv.writer(file)\n",
    "        i = 0\n",
    "        for _, msg, t in bag.read_messages(imu_topic_uncompensated):\n",
    "            row = [\n",
    "                    msg.header.stamp.to_nsec(),\n",
    "                    msg.orientation.x,\n",
    "                    msg.orientation.y,\n",
    "                    msg.orientation.z,\n",
    "                    msg.orientation.w,\n",
    "                    msg.angular_velocity.x,\n",
    "                    msg.angular_velocity.y,\n",
    "                    msg.angular_velocity.z,\n",
    "                    msg.linear_acceleration.x,\n",
    "                    msg.linear_acceleration.y,\n",
    "                    msg.linear_acceleration.z,\n",
    "                ]\n",
    "            writer.writerow(row)  # Write data\n",
    "            i+= 1\n",
    "        print(f\"Wrote {i} messages for uncompensated imu\")"
   ]
  },
  {
   "cell_type": "code",
   "execution_count": null,
   "id": "60a446de-ba54-4124-bf2c-d4eba04dfaa4",
   "metadata": {},
   "outputs": [],
   "source": [
    "for msg in "
   ]
  }
 ],
 "metadata": {
  "kernelspec": {
   "display_name": "Python 3 (ipykernel)",
   "language": "python",
   "name": "python3"
  },
  "language_info": {
   "codemirror_mode": {
    "name": "ipython",
    "version": 3
   },
   "file_extension": ".py",
   "mimetype": "text/x-python",
   "name": "python",
   "nbconvert_exporter": "python",
   "pygments_lexer": "ipython3",
   "version": "3.10.12"
  }
 },
 "nbformat": 4,
 "nbformat_minor": 5
}
